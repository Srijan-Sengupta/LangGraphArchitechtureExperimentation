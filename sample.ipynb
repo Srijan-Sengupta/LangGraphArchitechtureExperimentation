{
 "cells": [
  {
   "metadata": {},
   "cell_type": "markdown",
   "source": "[![Open In Colab](https://colab.research.google.com/assets/colab-badge.svg)](https://colab.research.google.com/github/googlecolab/colabtools/blob/master/notebooks/colab-github-demo.ipynb)",
   "id": "7854008f5cecf441"
  },
  {
   "metadata": {
    "ExecuteTime": {
     "end_time": "2024-12-21T11:50:52.317936Z",
     "start_time": "2024-12-21T11:50:49.999211Z"
    }
   },
   "cell_type": "code",
   "outputs": [
    {
     "name": "stdout",
     "output_type": "stream",
     "text": [
      "Note: you may need to restart the kernel to use updated packages.\n"
     ]
    }
   ],
   "execution_count": 9,
   "source": "%pip install -qU langgraph langchain langchain-ollama pip typing-extensions duckduckgo-search langchain_community python-dotenv langchain-openai",
   "id": "fbc121e30a2defb3"
  },
  {
   "cell_type": "code",
   "id": "3d593579f79c1cc6",
   "metadata": {
    "ExecuteTime": {
     "end_time": "2024-12-21T11:50:53.028114Z",
     "start_time": "2024-12-21T11:50:53.019021Z"
    }
   },
   "source": [
    "from dotenv import load_dotenv\n",
    "\n",
    "load_dotenv()"
   ],
   "outputs": [
    {
     "data": {
      "text/plain": [
       "True"
      ]
     },
     "execution_count": 10,
     "metadata": {},
     "output_type": "execute_result"
    }
   ],
   "execution_count": 10
  },
  {
   "cell_type": "code",
   "id": "9e0cf0c4c5e3b666",
   "metadata": {
    "ExecuteTime": {
     "end_time": "2024-12-21T11:50:53.838338Z",
     "start_time": "2024-12-21T11:50:53.799812Z"
    }
   },
   "source": [
    "from langchain_openai import ChatOpenAI\n",
    "from langchain_community.tools import DuckDuckGoSearchResults\n",
    "from langchain_ollama import ChatOllama\n",
    "\n",
    "web_search_tool = DuckDuckGoSearchResults()\n",
    "tools = [web_search_tool]\n",
    "llm = ChatOpenAI(model_name=\"gpt-4o-mini\", temperature=0.1)"
   ],
   "outputs": [],
   "execution_count": 11
  },
  {
   "cell_type": "code",
   "id": "a75de2982b5f8bb5",
   "metadata": {
    "ExecuteTime": {
     "end_time": "2024-12-21T11:50:56.862740Z",
     "start_time": "2024-12-21T11:50:55.143179Z"
    }
   },
   "source": [
    "from typing_extensions import TypedDict\n",
    "from typing import Literal, Annotated\n",
    "from langchain_ollama import ChatOllama\n",
    "from langgraph.graph import MessagesState\n",
    "from langgraph.types import Command\n",
    "from langgraph.constants import END\n",
    "from langgraph.prebuilt import create_react_agent\n",
    "from langchain_core.messages import HumanMessage, AIMessage\n",
    "\n",
    "members_with_desc = {\n",
    "    \"researcher\": \"This worker researches the internet for you and then answers.\",\n",
    "    \"recommender\": \"This worker recommends product suitable to handle problems with our products further.\"\n",
    "}\n",
    "\n",
    "members = list(members_with_desc.keys())\n",
    "\n",
    "options = members + [\"FINISHED\"]\n",
    "\n",
    "supervisor_system_prompt = (f\"\"\"You must not answer but only assign the worker to be next called.\n",
    "You must understand the intention of the user in order to call the workers and also use the previous messages as references.\n",
    "You have access to only these workers, {members} with what they do:\n",
    "{members_with_desc}\n",
    "One worker must be called only one time\n",
    "If the all the workers have been called once or there is nothing to generate, then only set next to \"FINISHED\".\n",
    "Don't change the name of the workers listed.\n",
    "next field must be only worker's name only or \"FINISHED\" if none.\n",
    "Given the following user request,\n",
    "respond with the worker's name to act next.\n",
    "\"\"\")\n",
    "\n",
    "\n",
    "class Router(TypedDict):\n",
    "    next: Literal[*options]\n",
    "\n",
    "test = llm.invoke(\"Hi!\")\n",
    "#print(test)\n",
    "def supervisor_node(state: MessagesState) -> Command[Literal[*members, \"__end__\"]]:\n",
    "    message = [\n",
    "        {\"role\": \"system\", \"content\": supervisor_system_prompt}\n",
    "    ] + state[\"messages\"]\n",
    "    #print(message)\n",
    "    #print(llm.invoke(message))\n",
    "    response = llm.with_structured_output(Router).invoke(message)\n",
    "    #print(response)\n",
    "    goto = response[\"next\"]\n",
    "    if goto == \"FINISHED\":\n",
    "        goto = END\n",
    "    return Command(goto=goto)\n",
    "\n",
    "research_agent = create_react_agent(llm, tools=[web_search_tool], state_modifier=\"You are a researcher. If you are unsure, do not apply your previous knowledge.\")\n",
    "\n",
    "def research_node(state: MessagesState) -> Command[Literal[\"supervisor\"]]:\n",
    "    result = research_agent.invoke(state)\n",
    "\n",
    "    return Command(\n",
    "        update={\n",
    "            \"messages\": [\n",
    "                AIMessage(content=result[\"messages\"][-1].content, name=\"researcher\")\n",
    "            ]\n",
    "        }, goto=\"supervisor\"\n",
    "    )\n",
    "\n",
    "products = {\n",
    "    \"Voice Grid (https://voicegrid.pannalabs.ai/)\": \"It is a product that converts Voice Input to a Structured Journal, Can be used in therapy, roaster creation, excel sheet generation. Its very fast because you don't need to type at all.\",\n",
    "    \"Web 2 Bot (https://www.webtobot.com/)\": \"It scraps the website and answers for that data only. Recommend it only to business or large organizations holding an website.\"\n",
    "}\n",
    "\n",
    "product_options = list(products.keys()) + [\"NONE\"]\n",
    "\n",
    "recommender_system_message = (f\"\"\"You are a product recommender.\n",
    "Read the message and try to guess if any on of the given products could be recommended.\n",
    "If there is nothing to that can be recommend do not recommend and set product to \"NONE\".\n",
    "Here are the products with their description/use cases:\n",
    "{products}\n",
    "\"\"\")\n",
    "\n",
    "class Recommendation(TypedDict):\n",
    "    product: Literal[*product_options, None]\n",
    "\n",
    "def recommender_node(state: MessagesState) -> Command[Literal[\"supervisor\"]]:\n",
    "    message = [\n",
    "        {\"role\": \"system\", \"content\": recommender_system_message}\n",
    "    ] + state[\"messages\"]\n",
    "    response = llm.with_structured_output(Recommendation).invoke(message)\n",
    "    #print(response)\n",
    "    recommended_product = response[\"product\"]\n",
    "    if not recommended_product == \"NONE\":\n",
    "        return Command(\n",
    "            update={\n",
    "                \"messages\": [\n",
    "                    AIMessage(content=f\"I recommend you to use {recommended_product}\", name=\"recommender\")\n",
    "                ]\n",
    "            },\n",
    "            goto=\"supervisor\"\n",
    "        )\n",
    "    return Command(\n",
    "        update={\n",
    "            \"messages\":[\n",
    "                AIMessage(content=\"NONE\", name=\"recommender\")\n",
    "            ]\n",
    "        },\n",
    "        goto=\"supervisor\"\n",
    "    )"
   ],
   "outputs": [],
   "execution_count": 12
  },
  {
   "cell_type": "code",
   "id": "3e4430cc744190c1",
   "metadata": {
    "ExecuteTime": {
     "end_time": "2024-12-21T11:50:56.879329Z",
     "start_time": "2024-12-21T11:50:56.870924Z"
    }
   },
   "source": [
    "from langgraph.constants import START\n",
    "from langgraph.graph import StateGraph\n",
    "\n",
    "# building a graph\n",
    "builder = StateGraph(MessagesState)\n",
    "builder.add_edge(START, \"supervisor\")\n",
    "builder.add_node(\"supervisor\", supervisor_node)\n",
    "builder.add_node(\"researcher\", research_node)\n",
    "builder.add_node(\"recommender\", recommender_node)\n",
    "graph = builder.compile()"
   ],
   "outputs": [],
   "execution_count": 13
  },
  {
   "cell_type": "code",
   "id": "72ca49343e9518c7",
   "metadata": {
    "ExecuteTime": {
     "end_time": "2024-12-21T11:51:02.181046Z",
     "start_time": "2024-12-21T11:50:57.463544Z"
    }
   },
   "source": [
    "from IPython.display import display, Image\n",
    "\n",
    "display(Image(graph.get_graph().draw_mermaid_png()))"
   ],
   "outputs": [
    {
     "data": {
      "image/png": "[encoded data removed]",
      "text/plain": [
       "<IPython.core.display.Image object>"
      ]
     },
     "metadata": {},
     "output_type": "display_data"
    }
   ],
   "execution_count": 14
  },
  {
   "cell_type": "code",
   "id": "76a56551e5dfc54d",
   "metadata": {
    "ExecuteTime": {
     "end_time": "2024-12-21T11:51:09.963464Z",
     "start_time": "2024-12-21T11:51:02.197755Z"
    }
   },
   "source": [
    "for s in graph.stream(\n",
    "    {\"messages\": [(\"user\", \"Who is current world chess champion?\")]}, subgraphs=True\n",
    "):\n",
    "    print(s)\n",
    "    print(\"----\")"
   ],
   "outputs": [
    {
     "name": "stdout",
     "output_type": "stream",
     "text": [
      "((), {'supervisor': None})\n",
      "----\n",
      "(('researcher:61b0082e-afe7-11f9-2215-b6bc37f28a00',), {'agent': {'messages': [AIMessage(content='', additional_kwargs={'tool_calls': [{'id': 'call_onTkzAes4LUyy09eKSUva2cd', 'function': {'arguments': '{\"query\":\"current world chess champion 2023\"}', 'name': 'duckduckgo_results_json'}, 'type': 'function'}], 'refusal': None}, response_metadata={'token_usage': {'completion_tokens': 25, 'prompt_tokens': 98, 'total_tokens': 123, 'completion_tokens_details': {'accepted_prediction_tokens': 0, 'audio_tokens': 0, 'reasoning_tokens': 0, 'rejected_prediction_tokens': 0}, 'prompt_tokens_details': {'audio_tokens': 0, 'cached_tokens': 0}}, 'model_name': 'gpt-4o-mini-2024-07-18', 'system_fingerprint': 'fp_d02d531b47', 'finish_reason': 'tool_calls', 'logprobs': None}, id='run-9d9dc93d-120b-4128-a1c5-f1cf3698ca03-0', tool_calls=[{'name': 'duckduckgo_results_json', 'args': {'query': 'current world chess champion 2023'}, 'id': 'call_onTkzAes4LUyy09eKSUva2cd', 'type': 'tool_call'}], usage_metadata={'input_tokens': 98, 'output_tokens': 25, 'total_tokens': 123, 'input_token_details': {'audio': 0, 'cache_read': 0}, 'output_token_details': {'audio': 0, 'reasoning': 0}})]}})\n",
      "----\n",
      "(('researcher:61b0082e-afe7-11f9-2215-b6bc37f28a00',), {'tools': {'messages': [ToolMessage(content=\"snippet: India's Gukesh Dommaraju defeated Ding Liren of China to become the youngest ever world chess champion on Thursday. ... 16. Magnus Carlsen (2013-2023) Wins - 5 (2013, 2014, 2016*, 2018*, 2021) 17. Ding Liren (2023-24) Wins - 1 (2023**) ... Sports Are there similarities between Sachin Tendulkar's 2011 tour of Australia and Virat Kohli's ..., title: Gukesh beats Ding Liren: Here's the complete list of winners in World ..., link: https://indianexpress.com/article/sports/chess/gukesh-beats-ding-liren-full-world-championship-winners-list-9721682/, snippet: The championship began in 1886, when Wilhelm Steinitz was declared the first official World Chess Champion. But the current FIDE (Fédération Internationale des Échecs) method of a world championship was only firmly established in 1948. ... 2013-2023: Held the title for a decade; voluntarily relinquished it. 17: Ding Liren: 2023-2024: Won ..., title: FIDE World Chess Championship: Full list of winners - Khel Now, link: https://khelnow.com/chess/fide-world-chess-championship-winners-202412, snippet: Teenager Gukesh Dommaraju became the youngest-ever undisputed classical chess world champion after beating Ding Liren 7.5-6.5 in their best-of-14 final in Singapore on Thursday., title: Indian Gukesh Dommaraju, 18, becomes the youngest ever chess world ..., link: https://www.cnn.com/2024/12/12/sport/gukesh-dommaraju-youngest-chess-world-champion-spt/index.html, snippet: India's 18-year-old prodigy Gukesh Dommaraju capped his meteoric rise by becoming the youngest world chess champion in history after defeating Ding Liren 7½-6½ in a tense championship in ..., title: Gukesh Dommaraju, 18, becomes youngest chess world champion in history ..., link: https://www.nytimes.com/athletic/5987157/2024/12/12/gukesh-dommaraju-ding-liren-world-chess-championship/\", name='duckduckgo_results_json', id='2c19afe3-91b1-4fc5-a6b0-fe9219720150', tool_call_id='call_onTkzAes4LUyy09eKSUva2cd', artifact=[{'snippet': \"India's Gukesh Dommaraju defeated Ding Liren of China to become the youngest ever world chess champion on Thursday. ... 16. Magnus Carlsen (2013-2023) Wins - 5 (2013, 2014, 2016*, 2018*, 2021) 17. Ding Liren (2023-24) Wins - 1 (2023**) ... Sports Are there similarities between Sachin Tendulkar's 2011 tour of Australia and Virat Kohli's ...\", 'title': \"Gukesh beats Ding Liren: Here's the complete list of winners in World ...\", 'link': 'https://indianexpress.com/article/sports/chess/gukesh-beats-ding-liren-full-world-championship-winners-list-9721682/'}, {'snippet': 'The championship began in 1886, when Wilhelm Steinitz was declared the first official World Chess Champion. But the current FIDE (Fédération Internationale des Échecs) method of a world championship was only firmly established in 1948. ... 2013-2023: Held the title for a decade; voluntarily relinquished it. 17: Ding Liren: 2023-2024: Won ...', 'title': 'FIDE World Chess Championship: Full list of winners - Khel Now', 'link': 'https://khelnow.com/chess/fide-world-chess-championship-winners-202412'}, {'snippet': 'Teenager Gukesh Dommaraju became the youngest-ever undisputed classical chess world champion after beating Ding Liren 7.5-6.5 in their best-of-14 final in Singapore on Thursday.', 'title': 'Indian Gukesh Dommaraju, 18, becomes the youngest ever chess world ...', 'link': 'https://www.cnn.com/2024/12/12/sport/gukesh-dommaraju-youngest-chess-world-champion-spt/index.html'}, {'snippet': \"India's 18-year-old prodigy Gukesh Dommaraju capped his meteoric rise by becoming the youngest world chess champion in history after defeating Ding Liren 7½-6½ in a tense championship in ...\", 'title': 'Gukesh Dommaraju, 18, becomes youngest chess world champion in history ...', 'link': 'https://www.nytimes.com/athletic/5987157/2024/12/12/gukesh-dommaraju-ding-liren-world-chess-championship/'}])]}})\n",
      "----\n",
      "(('researcher:61b0082e-afe7-11f9-2215-b6bc37f28a00',), {'agent': {'messages': [AIMessage(content='The current world chess champion is Gukesh Dommaraju from India, who recently defeated Ding Liren of China to become the youngest ever world chess champion.', additional_kwargs={'refusal': None}, response_metadata={'token_usage': {'completion_tokens': 34, 'prompt_tokens': 633, 'total_tokens': 667, 'completion_tokens_details': {'accepted_prediction_tokens': 0, 'audio_tokens': 0, 'reasoning_tokens': 0, 'rejected_prediction_tokens': 0}, 'prompt_tokens_details': {'audio_tokens': 0, 'cached_tokens': 0}}, 'model_name': 'gpt-4o-mini-2024-07-18', 'system_fingerprint': 'fp_0aa8d3e20b', 'finish_reason': 'stop', 'logprobs': None}, id='run-be0b2cdb-cf26-445c-8ab7-1da2b42405fc-0', usage_metadata={'input_tokens': 633, 'output_tokens': 34, 'total_tokens': 667, 'input_token_details': {'audio': 0, 'cache_read': 0}, 'output_token_details': {'audio': 0, 'reasoning': 0}})]}})\n",
      "----\n",
      "((), {'researcher': {'messages': [AIMessage(content='The current world chess champion is Gukesh Dommaraju from India, who recently defeated Ding Liren of China to become the youngest ever world chess champion.', additional_kwargs={}, response_metadata={}, name='researcher')]}})\n",
      "----\n",
      "((), {'supervisor': None})\n",
      "----\n",
      "((), {'recommender': {'messages': [AIMessage(content='NONE', additional_kwargs={}, response_metadata={}, name='recommender')]}})\n",
      "----\n",
      "((), {'supervisor': None})\n",
      "----\n"
     ]
    }
   ],
   "execution_count": 15
  },
  {
   "cell_type": "code",
   "execution_count": 7,
   "id": "dfe3eacd68c76c",
   "metadata": {
    "ExecuteTime": {
     "end_time": "2024-12-17T13:40:22.897049Z",
     "start_time": "2024-12-17T13:39:42.025643Z"
    }
   },
   "outputs": [
    {
     "name": "stdin",
     "output_type": "stream",
     "text": [
      ">  I am website owner. How can I increase the UX of my website?\n"
     ]
    },
    {
     "name": "stdout",
     "output_type": "stream",
     "text": [
      "================================\u001B[1m Human Message \u001B[0m=================================\n",
      "\n",
      "I am website owner. How can I increase the UX of my website?\n",
      "==================================\u001B[1m Ai Message \u001B[0m==================================\n",
      "Name: researcher\n",
      "\n",
      "Improving the user experience (UX) of your website involves several strategies and best practices. Here are some effective ways to enhance UX:\n",
      "\n",
      "1. **Responsive Design**: Ensure your website is mobile-friendly and looks good on all devices. Use responsive design techniques to adapt layouts to different screen sizes.\n",
      "\n",
      "2. **Fast Loading Times**: Optimize your website's speed by compressing images, minimizing code, and using efficient hosting. Tools like Google PageSpeed Insights can help identify areas for improvement.\n",
      "\n",
      "3. **Intuitive Navigation**: Create a clear and logical navigation structure. Use descriptive labels for menu items and ensure users can easily find what they are looking for.\n",
      "\n",
      "4. **Consistent Layout**: Maintain a consistent layout and design across all pages. This includes using the same color scheme, fonts, and button styles to create a cohesive look.\n",
      "\n",
      "5. **High-Quality Content**: Provide valuable, relevant, and engaging content. Use headings, bullet points, and images to break up text and make it easier to read.\n",
      "\n",
      "6. **Accessibility**: Ensure your website is accessible to all users, including those with disabilities. Use alt text for images, ensure sufficient color contrast, and make sure the site can be navigated using a keyboard.\n",
      "\n",
      "7. **User Feedback**: Implement tools to gather user feedback, such as surveys or feedback forms. Use this information to make informed improvements.\n",
      "\n",
      "8. **Clear Call-to-Actions (CTAs)**: Use clear and compelling CTAs to guide users toward desired actions, such as signing up for a newsletter or making a purchase.\n",
      "\n",
      "9. **Search Functionality**: If your website has a lot of content, include a search feature to help users find what they need quickly.\n",
      "\n",
      "10. **Regular Testing**: Conduct usability testing with real users to identify pain points and areas for improvement. A/B testing can also help determine which design elements work best.\n",
      "\n",
      "11. **Visual Hierarchy**: Use size, color, and placement to create a visual hierarchy that guides users' attention to the most important elements on the page.\n",
      "\n",
      "12. **Minimize Pop-Ups**: While pop-ups can be useful for capturing leads, excessive use can frustrate users. Use them sparingly and ensure they are easy to close.\n",
      "\n",
      "By implementing these strategies, you can significantly enhance the user experience on your website, leading to higher engagement and satisfaction.\n",
      "==================================\u001B[1m Ai Message \u001B[0m==================================\n",
      "Name: recommender\n",
      "\n",
      "I recommend you to use Web 2 Bot (https://www.webtobot.com/)\n"
     ]
    },
    {
     "name": "stdin",
     "output_type": "stream",
     "text": [
      ">  I need a tool to quickly create notes.\n"
     ]
    },
    {
     "name": "stdout",
     "output_type": "stream",
     "text": [
      "================================\u001B[1m Human Message \u001B[0m=================================\n",
      "\n",
      "I need a tool to quickly create notes.\n",
      "==================================\u001B[1m Ai Message \u001B[0m==================================\n",
      "Name: recommender\n",
      "\n",
      "I recommend you to use Voice Grid (https://voicegrid.pannalabs.ai/)\n"
     ]
    },
    {
     "name": "stdin",
     "output_type": "stream",
     "text": [
      ">  quit\n"
     ]
    }
   ],
   "source": [
    "def execute(msg):\n",
    "    response =  graph.invoke(\n",
    "        {\"messages\": [(\"user\", msg)]}, subgraphs=True\n",
    "    )\n",
    "    [r.pretty_print() for r in response[1][\"messages\"]]\n",
    "\n",
    "message = \"\"\n",
    "while not message == \"exit\":\n",
    "    message = input(\"> \")\n",
    "    if message.lower() in [\"quit\", \"q\", \"exit\"]:\n",
    "        break\n",
    "    execute(message)"
   ]
  },
  {
   "cell_type": "code",
   "execution_count": null,
   "id": "983a18086a36d811",
   "metadata": {},
   "outputs": [],
   "source": []
  }
 ],
 "metadata": {
  "kernelspec": {
   "display_name": "Python 3 (ipykernel)",
   "language": "python",
   "name": "python3"
  },
  "language_info": {
   "codemirror_mode": {
    "name": "ipython",
    "version": 3
   },
   "file_extension": ".py",
   "mimetype": "text/x-python",
   "name": "python",
   "nbconvert_exporter": "python",
   "pygments_lexer": "ipython3",
   "version": "3.12.7"
  }
 },
 "nbformat": 4,
 "nbformat_minor": 5
}
